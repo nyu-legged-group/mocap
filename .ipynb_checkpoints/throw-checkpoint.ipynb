{
 "cells": [
  {
   "cell_type": "code",
   "execution_count": 147,
   "id": "00e191ca",
   "metadata": {},
   "outputs": [],
   "source": [
    "import numpy as np\n",
    "import pandas as pd\n",
    "import pinocchio as pin\n",
    "from pinocchio.rpy import matrixToRpy, rpyToMatrix, rotate\n",
    "import matplotlib.pyplot as plt\n",
    "from viz_visualizer import VisualModel\n",
    "import time\n",
    "import pickle\n",
    "import warnings\n",
    "warnings.filterwarnings('ignore')\n",
    "pin.switchToNumpyMatrix()"
   ]
  },
  {
   "cell_type": "code",
   "execution_count": 2,
   "id": "f3d3393a",
   "metadata": {},
   "outputs": [
    {
     "name": "stdout",
     "output_type": "stream",
     "text": [
      "Crocoddyl optimization model with ball: /Users/dongdong/repos/humanoid_property/urdf/humanoid_throw_pinocchio_ball.urdf\n",
      "Crocoddyl optimization model without ball: /Users/dongdong/repos/humanoid_property/urdf/humanoid_throw_pinocchio_without_ball.urdf\n",
      "Bullet simulation internal pinocchio model: /Users/dongdong/repos/humanoid_property/urdf/humanoid_throw_pybullet.urdf\n",
      "Bullet simulation model: /Users/dongdong/repos/humanoid_property/urdf/humanoid_throw_pybullet.urdf\n",
      "You can open the visualizer by visiting the following URL:\n",
      "http://127.0.0.1:7000/static/\n"
     ]
    }
   ],
   "source": [
    "# load humanoid model\n",
    "m = VisualModel(display=True)"
   ]
  },
  {
   "cell_type": "code",
   "execution_count": 151,
   "id": "837f0575",
   "metadata": {},
   "outputs": [
    {
     "name": "stdout",
     "output_type": "stream",
     "text": [
      "(x,y,z,w) = 0 0 0 1\n",
      " [[1. 0. 0.]\n",
      " [0. 1. 0.]\n",
      " [0. 0. 1.]] [[ 0.]\n",
      " [-0.]\n",
      " [ 0.]] [[1. 0. 0.]\n",
      " [0. 1. 0.]\n",
      " [0. 0. 1.]]\n",
      "[[ 1.000000e+00  0.000000e+00  0.000000e+00]\n",
      " [ 0.000000e+00  6.123234e-17  1.000000e+00]\n",
      " [ 0.000000e+00 -1.000000e+00  6.123234e-17]]\n"
     ]
    }
   ],
   "source": [
    "# test quaternion\n",
    "\n",
    "# pinocchio quaternion order: x, y, z, w\n",
    "x = [0, 0, 0, 1]\n",
    "y = [0,0,0]\n",
    "quat_norm = pin.Quaternion(np.matrix(x).T).normalized()\n",
    "R = quat_norm.toRotationMatrix()\n",
    "rpy = matrixToRpy(R)\n",
    "R_ = rpyToMatrix(np.matrix(y).T)\n",
    "print(quat_norm, R, rpy, R_)\n",
    "\n",
    "print(rotate('x', -np.pi / 2))"
   ]
  },
  {
   "cell_type": "code",
   "execution_count": 152,
   "id": "cbe6f32f",
   "metadata": {},
   "outputs": [],
   "source": [
    "def read_data(path):\n",
    "    data = pd.read_csv(path, skiprows = 6)\n",
    "    df = pd.DataFrame(data)\n",
    "    #Data processing\n",
    "    c_quat = [] #chest rotation\n",
    "    s_quat = [] #shoulder rotation\n",
    "    u_quat = [] #up arm rotation\n",
    "    f_quat = [] #front arm rotation\n",
    "    \n",
    "    for i in range(0, len(data)) :\n",
    "        c_quat.append([df.iloc[i][28], df.iloc[i][29], df.iloc[i][30], df.iloc[i][31]])\n",
    "        s_quat.append([df.iloc[i][119], df.iloc[i][120], df.iloc[i][121], df.iloc[i][122]])\n",
    "        u_quat.append([df.iloc[i][132], df.iloc[i][133], df.iloc[i][134], df.iloc[i][135]])\n",
    "        f_quat.append([df.iloc[i][145], df.iloc[i][146], df.iloc[i][147], df.iloc[i][148]])\n",
    "    print(\"data processing done\")\n",
    "    \n",
    "    return c_quat, s_quat, u_quat, f_quat\n",
    "\n",
    "\n",
    "\n",
    "def toRot(data):\n",
    "    ret = []\n",
    "    for quat in data:\n",
    "        quat_norm = pin.Quaternion(np.matrix(quat).T).normalized()\n",
    "        R=quat_norm.toRotationMatrix()\n",
    "        ret.append(R)\n",
    "    return ret\n",
    "\n",
    "def calibrate_data(data, data_reg):\n",
    "    ret = []\n",
    "    for d in data:\n",
    "        R=d.dot(data_reg)\n",
    "        ret.append(R)\n",
    "    return ret\n",
    "\n",
    "def reMapWorldMatList(data):\n",
    "    ret = []\n",
    "    m = np.matrix([[1.0, 0.0, 0.0],\n",
    "                    [0.0, 0.0,  1.0],\n",
    "                    [0.0, -1.0,  0.0]])\n",
    "    for d in data:\n",
    "        R = m.dot(d)\n",
    "        ret.append(R)\n",
    "        \n",
    "    return ret\n",
    "def reMapWorldMat(data):\n",
    "    m = np.matrix([[1.0, 0.0, 0.0],\n",
    "                    [0.0, 0.0,  1.0],\n",
    "                    [0.0, -1.0,  0.0]])\n",
    "    R = m.dot(data)\n",
    "        \n",
    "    return R\n",
    "\n",
    "def toRpy(data):\n",
    "    ret = []\n",
    "    for d in data:\n",
    "        ret.append(matrixToRpy(d))\n",
    "    return ret\n",
    "\n",
    "def remap(data_child, data_mother):\n",
    "    ret = []\n",
    "    for dc, dm in zip(data_child, data_mother):\n",
    "        R = np.linalg.inv(dm).dot(dc)\n",
    "        ret.append(R)\n",
    "    return ret\n",
    "\n",
    "def plotRpy(rpy, title=\"\"):\n",
    "    plt.figure()\n",
    "    xrange = np.arange(len(rpy))/240.\n",
    "    plt.plot(xrange,[_rpy[0].item()/np.pi*180 for _rpy in rpy], label='x')\n",
    "    plt.plot(xrange,[_rpy[1].item()/np.pi*180 for _rpy in rpy], label='y')\n",
    "    plt.plot(xrange,[_rpy[2].item()/np.pi*180 for _rpy in rpy], label='z')\n",
    "    plt.legend()\n",
    "#     plt.ylim([-180, 180])\n",
    "    plt.xlabel('time [s]')\n",
    "    plt.ylabel(title+' [degree]')"
   ]
  },
  {
   "cell_type": "code",
   "execution_count": 181,
   "id": "400a6876",
   "metadata": {},
   "outputs": [
    {
     "name": "stdout",
     "output_type": "stream",
     "text": [
      "data processing done\n"
     ]
    }
   ],
   "source": [
    "calibrate = True\n",
    "\n",
    "if calibrate:\n",
    "    #Use shoulder pitch to calibrate the initial posture\n",
    "    #Remap the data to desired direction coordinate\n",
    "    \n",
    "#     path_ = 'calibration/shoulder_pitch/Take 2021-12-16 02.17.24 PM_007.csv'\n",
    "    path = 'calibration/shoulder_roll/Take 2021-12-16 02.17.24 PM_004.csv'\n",
    "    c_quat_, s_quat_, u_quat_, f_quat_ = read_data(path_)\n",
    "    \n",
    "    c_rot_ = toRot(c_quat_)\n",
    "    s_rot_ = toRot(s_quat_)\n",
    "    u_rot_ = toRot(u_quat_)\n",
    "    f_rot_ = toRot(f_quat_)\n",
    "    \n",
    "    c_rot_nw = reMapWorldMatList(c_rot_)\n",
    "    s_rot_nw = reMapWorldMatList(s_rot_)\n",
    "    u_rot_nw = reMapWorldMatList(u_rot_)\n",
    "    f_rot_nw = reMapWorldMatList(f_rot_)\n",
    "\n",
    "    reg_c_rot_nw = np.linalg.inv(c_rot_nw[0])\n",
    "    reg_s_rot_nw = np.linalg.inv(s_rot_nw[0])\n",
    "    reg_u_rot_nw = np.linalg.inv(u_rot_nw[0])\n",
    "    reg_f_rot_nw = np.linalg.inv(f_rot_nw[0])\n",
    "    \n",
    "    pkl = []\n",
    "    pkl.append(reg_c_rot_nw)\n",
    "    pkl.append(reg_s_rot_nw)\n",
    "    pkl.append(reg_u_rot_nw)\n",
    "    pkl.append(reg_f_rot_nw)\n",
    "    \n",
    "    with open('calibarate_data.pickle', 'wb') as handle:\n",
    "        pickle.dump(pkl, handle, protocol=pickle.HIGHEST_PROTOCOL)\n",
    "    \n",
    "else:\n",
    "    with open('calibarate_data.pickle', \"rb\") as handle:\n",
    "        pkl = pickle.load(handle)\n",
    "    reg_c_rot_nw = pkl[0]\n",
    "    reg_s_rot_nw = pkl[1]\n",
    "    reg_u_rot_nw = pkl[2]\n",
    "    reg_f_rot_nw = pkl[3]"
   ]
  },
  {
   "cell_type": "code",
   "execution_count": 182,
   "id": "f9ee274b",
   "metadata": {},
   "outputs": [
    {
     "data": {
      "text/plain": [
       "(matrix([[-0.9737056 , -0.21735986, -0.06820629],\n",
       "         [ 0.05322435,  0.07405782, -0.99583262],\n",
       "         [ 0.22150524, -0.97327803, -0.06054167]]),\n",
       " matrix([[-0.99752945, -0.01552592,  0.0685123 ],\n",
       "         [-0.0679734 , -0.03292209, -0.9971438 ],\n",
       "         [ 0.01773715, -0.99933732,  0.03178541]]),\n",
       " matrix([[-0.40168394,  0.12902208, -0.90664398],\n",
       "         [ 0.837971  , -0.3475626 , -0.42071943],\n",
       "         [-0.36939764, -0.92873761,  0.03149355]]),\n",
       " matrix([[ 0.19599356,  0.39710688, -0.89660061],\n",
       "         [ 0.81879428, -0.56940068, -0.07320375],\n",
       "         [-0.53959471, -0.71978398, -0.43674771]]))"
      ]
     },
     "execution_count": 182,
     "metadata": {},
     "output_type": "execute_result"
    }
   ],
   "source": [
    "reg_c_rot_nw, reg_s_rot_nw, reg_u_rot_nw, reg_f_rot_nw"
   ]
  },
  {
   "cell_type": "code",
   "execution_count": 196,
   "id": "85cc7b4d",
   "metadata": {},
   "outputs": [
    {
     "name": "stdout",
     "output_type": "stream",
     "text": [
      "data processing done\n"
     ]
    }
   ],
   "source": [
    "#load data from csv\n",
    "\n",
    "# path = 'calibration/shoulder_pitch/Take 2021-12-16 02.17.24 PM_007.csv'\n",
    "# path = 'calibration/shoulder_roll/Take 2021-12-16 02.17.24 PM_004.csv'\n",
    "# path = 'calibration/shoulder_yaw/Take 2021-12-16 02.17.24 PM_010.csv'\n",
    "# path = 'calibration/elbow/Take 2021-12-16 02.17.24 PM_013.csv'\n",
    "path = 'throw/1/Take 2021-12-16 02.17.24 PM_036.csv'\n",
    "c_quat, s_quat, u_quat, f_quat = read_data(path)\n",
    "\n",
    "c_rot = toRot(c_quat)\n",
    "s_rot = toRot(s_quat)\n",
    "u_rot = toRot(u_quat)\n",
    "f_rot = toRot(f_quat)\n",
    "\n",
    "# map to new world frame\n",
    "c_rot_nw = reMapWorldMatList(c_rot)\n",
    "s_rot_nw = reMapWorldMatList(s_rot)\n",
    "u_rot_nw = reMapWorldMatList(u_rot)\n",
    "f_rot_nw = reMapWorldMatList(f_rot)"
   ]
  },
  {
   "cell_type": "code",
   "execution_count": 197,
   "id": "75ea0613",
   "metadata": {},
   "outputs": [],
   "source": [
    "#convert data based on calibration data\n",
    "c_rot_cali = calibrate_data(c_rot_nw, reg_c_rot_nw)\n",
    "s_rot_cali = calibrate_data(s_rot_nw, reg_s_rot_nw)\n",
    "u_rot_cali = calibrate_data(u_rot_nw, reg_u_rot_nw)\n",
    "f_rot_cali = calibrate_data(f_rot_nw, reg_f_rot_nw)"
   ]
  },
  {
   "cell_type": "code",
   "execution_count": 198,
   "id": "4b42ec35",
   "metadata": {},
   "outputs": [],
   "source": [
    "um_rot = remap(u_rot_cali, s_rot_cali)\n",
    "fm_rot = remap(f_rot_cali, u_rot_cali)"
   ]
  },
  {
   "cell_type": "code",
   "execution_count": 199,
   "id": "b8911035",
   "metadata": {},
   "outputs": [
    {
     "data": {
      "image/png": "[encoded data removed]",
      "text/plain": [
       "<Figure size 432x288 with 1 Axes>"
      ]
     },
     "metadata": {
      "needs_background": "light"
     },
     "output_type": "display_data"
    },
    {
     "data": {
      "image/png": "[encoded data removed]",
      "text/plain": [
       "<Figure size 432x288 with 1 Axes>"
      ]
     },
     "metadata": {
      "needs_background": "light"
     },
     "output_type": "display_data"
    },
    {
     "data": {
      "image/png": "[encoded data removed]",
      "text/plain": [
       "<Figure size 432x288 with 1 Axes>"
      ]
     },
     "metadata": {
      "needs_background": "light"
     },
     "output_type": "display_data"
    }
   ],
   "source": [
    "c_rpy = toRpy(c_rot_cali)\n",
    "u_rpy = toRpy(um_rot)\n",
    "f_rpy = toRpy(fm_rot)\n",
    "\n",
    "# y, x, z\n",
    "\n",
    "# x, y, z\n",
    "plotRpy(c_rpy, title=\"chest\")\n",
    "plotRpy(u_rpy, title=\"upperarm\")\n",
    "plotRpy(f_rpy, title=\"forearm\")"
   ]
  },
  {
   "cell_type": "code",
   "execution_count": 200,
   "id": "26fa0f7e",
   "metadata": {},
   "outputs": [],
   "source": [
    "\n",
    "# def toQuat(data):\n",
    "#     ret = []\n",
    "#     for x, y, z, w in zip(data.quat_x, data.quat_y, data.quat_z, data.quat_w):\n",
    "#         ret.append([x, y, z, w])\n",
    "#     return ret\n",
    "\n",
    "# def toRpy(data, data0, final_data):\n",
    "#     ret = []\n",
    "    \n",
    "#     for quat, rot in zip(data, data0):\n",
    "#         quat_norm = pin.Quaternion(np.matrix(quat).T).normalized()\n",
    "#         R=quat_norm.toRotationMatrix().dot(np.linalg.inv(rot)).dot(np.linalg.inv(final_data))\n",
    "#         ret.append(matrixToRpy(R))\n",
    "#     return ret\n",
    "\n",
    "# def toPureRpy(data):\n",
    "#     ret = []\n",
    "    \n",
    "#     for quat in data:\n",
    "#         quat_norm = pin.Quaternion(np.matrix(quat).T).normalized()\n",
    "#         R=quat_norm.toRotationMatrix()\n",
    "#         ret.append(matrixToRpy(R))\n",
    "#     return ret\n",
    "\n",
    "    \n",
    "# def toRot(data):\n",
    "#     ret = []\n",
    "#     for quat in data:\n",
    "#         quat_norm = pin.Quaternion(np.matrix(quat).T).normalized()\n",
    "#         R=quat_norm.toRotationMatrix()\n",
    "#         ret.append(R)\n",
    "#     return ret\n",
    "\n",
    "\n",
    "\n",
    "# chest_rot = toRot(c_quat)\n",
    "# shoulder_rot = toRot(s_quat)\n",
    "# upperarm_rot = toRot(u_quat)\n",
    "# forearm_rot = toRot(f_quat)\n",
    "\n",
    "# R0 = [np.eye(3)]*len(chest_rot)\n",
    "# chest_rpy = toPureRpy(c_quat)\n",
    "# shoulder_rpy = toPureRpy(s_quat)\n",
    "# upperarm_rpy = toRpy(u_quat, chest_rot)\n",
    "# forearm_rpy = toRpy(f_quat, upperarm_rot)"
   ]
  },
  {
   "cell_type": "code",
   "execution_count": 201,
   "id": "c0d00d8e",
   "metadata": {},
   "outputs": [],
   "source": [
    "q = m.q0.copy()\n",
    "m.viz.display(q)\n",
    "traj = []\n",
    "waist_traj = []\n",
    "\n",
    "for c, u, f in zip(c_rpy, u_rpy, f_rpy):\n",
    "    traj.append([-u[0].item(),u[1].item(), u[2].item(), f[0].item()])\n",
    "    waist_traj.append(-1*c[2])\n",
    "\n",
    "q[24:28] = np.matrix(traj[0]).T\n",
    "q[19] = waist_traj[0]\n",
    "m.viz.display(q)"
   ]
  },
  {
   "cell_type": "code",
   "execution_count": 203,
   "id": "9d3d6d5e",
   "metadata": {},
   "outputs": [],
   "source": [
    "for w, t in zip(waist_traj, traj):\n",
    "    q[19] = w\n",
    "    q[24:28] = np.matrix(t).T\n",
    "    m.viz.display(q)"
   ]
  },
  {
   "cell_type": "code",
   "execution_count": null,
   "id": "40bc9503",
   "metadata": {},
   "outputs": [],
   "source": []
  },
  {
   "cell_type": "code",
   "execution_count": null,
   "id": "a95abe1f",
   "metadata": {},
   "outputs": [],
   "source": []
  }
 ],
 "metadata": {
  "kernelspec": {
   "display_name": "Python 3 (ipykernel)",
   "language": "python",
   "name": "python3"
  },
  "language_info": {
   "codemirror_mode": {
    "name": "ipython",
    "version": 3
   },
   "file_extension": ".py",
   "mimetype": "text/x-python",
   "name": "python",
   "nbconvert_exporter": "python",
   "pygments_lexer": "ipython3",
   "version": "3.8.2"
  }
 },
 "nbformat": 4,
 "nbformat_minor": 5
}
