{
 "cells": [
  {
   "cell_type": "code",
   "execution_count": 1,
   "id": "574de772",
   "metadata": {
    "executionInfo": {
     "elapsed": 6,
     "status": "ok",
     "timestamp": 1640637726915,
     "user": {
      "displayName": "Dongdong Liu",
      "photoUrl": "https://lh3.googleusercontent.com/a-/AOh14GjMbJAQt2qBlwnaBqCS7l8raW-pHlyBdev-hZ_GVw=s64",
      "userId": "16872593917970398899"
     },
     "user_tz": 300
    },
    "id": "574de772"
   },
   "outputs": [],
   "source": [
    "import numpy as np\n",
    "import matplotlib.pyplot as plt\n",
    "import math\n",
    "import pandas as pd\n",
    "from io import StringIO"
   ]
  },
  {
   "cell_type": "code",
   "execution_count": 5,
   "id": "yMnnIQrPl4yN",
   "metadata": {
    "colab": {
     "base_uri": "https://localhost:8080/"
    },
    "executionInfo": {
     "elapsed": 1885,
     "status": "ok",
     "timestamp": 1640637871095,
     "user": {
      "displayName": "Dongdong Liu",
      "photoUrl": "https://lh3.googleusercontent.com/a-/AOh14GjMbJAQt2qBlwnaBqCS7l8raW-pHlyBdev-hZ_GVw=s64",
      "userId": "16872593917970398899"
     },
     "user_tz": 300
    },
    "id": "yMnnIQrPl4yN",
    "outputId": "8bad93c3-037e-46b5-dfb1-f7995978f39e"
   },
   "outputs": [
    {
     "name": "stdout",
     "output_type": "stream",
     "text": [
      "Drive already mounted at /content/drive; to attempt to forcibly remount, call drive.mount(\"/content/drive\", force_remount=True).\n",
      "MyDrive  Othercomputers  Shareddrives\n"
     ]
    }
   ],
   "source": [
    "from google.colab import drive\n",
    "drive.mount('/content/drive')\n",
    "\n",
    "!ls /content/drive/"
   ]
  },
  {
   "cell_type": "code",
   "execution_count": 3,
   "id": "51f48a60",
   "metadata": {
    "executionInfo": {
     "elapsed": 310,
     "status": "ok",
     "timestamp": 1640637759064,
     "user": {
      "displayName": "Dongdong Liu",
      "photoUrl": "https://lh3.googleusercontent.com/a-/AOh14GjMbJAQt2qBlwnaBqCS7l8raW-pHlyBdev-hZ_GVw=s64",
      "userId": "16872593917970398899"
     },
     "user_tz": 300
    },
    "id": "51f48a60"
   },
   "outputs": [],
   "source": [
    "def makeT(Rot, trans):\n",
    "    T = np.zeros([4, 4])\n",
    "    for i in range(3):\n",
    "        for j in range(3):\n",
    "            T[i][j] = Rot[i][j]\n",
    "        T[i][3] = trans[i]\n",
    "    T[3][3] = 1\n",
    "    return T\n",
    "\n",
    "def makeTrans(x, y, z):\n",
    "    trans = np.zeros([3, 1])\n",
    "    trans[0] = x\n",
    "    trans[1] = y\n",
    "    trans[2] = z\n",
    "    return trans\n",
    "\n",
    "def makeR(x, y, z, w):\n",
    "    R = np.zeros([3, 3])\n",
    "    q0 = w\n",
    "    q1 = x\n",
    "    q2 = y\n",
    "    q3 = z\n",
    "    R[0][0] = q0*q0 + q1*q1 - q2*q2 - q3*q3\n",
    "    R[0][1] = 2 * (q1*q2 - q0*q3)\n",
    "    R[0][2] = 2 * (q0*q2 + q1*q3)\n",
    "    R[1][0] = 2 * (q0*q3 + q1*q2)\n",
    "    R[1][1] = q0*q0 - q1*q1 + q2*q2 - q3*q3\n",
    "    R[1][2] = 2 * (q2*q3 - q0*q1)\n",
    "    R[2][0] = 2 * (q1*q3 - q0*q2)\n",
    "    R[2][1] = 2 * (q0*q1 + q2*q3)\n",
    "    R[2][2] = q0*q0 - q1*q1 - q2*q2 + q3*q3\n",
    "    return R\n",
    "\n",
    "def frameTranslation(T01, T02):\n",
    "    T12 = np.linalg.inv(T01) @ T02\n",
    "    return T12\n",
    "\n",
    "# def getXYZW(T):\n",
    "#     temp = T[0][0] + T[1][1] + T[2][2] + 1\n",
    "#     if(temp < 0) :\n",
    "#       temp *= -1\n",
    "#       temp = -1 * math.sqrt(temp)\n",
    "#     w = 0.5 * temp\n",
    "#     x = 0.25 * w * (T[2][1] - T[1][2])\n",
    "#     y = 0.25 * w * (T[0][2] - T[2][0])\n",
    "#     z = 0.25 * w * (T[1][0] - T[0][1])\n",
    "#     return x, y, z, w\n",
    "\n",
    "def getAngle(T):\n",
    "    temp = T[0][0] * T[0][0] + T[1][0] * T[1][0]\n",
    "    if(temp < 0) :\n",
    "      temp *= -1\n",
    "      temp = -1 * math.sqrt(temp)\n",
    "    b = math.atan2(-T[2][0], temp)\n",
    "    a = math.atan2(T[1][0], T[0][0])\n",
    "    c = math.atan2(T[2][1], T[2][2])\n",
    "    return a, b, c"
   ]
  },
  {
   "cell_type": "code",
   "execution_count": 6,
   "id": "dfcd916b",
   "metadata": {
    "colab": {
     "base_uri": "https://localhost:8080/"
    },
    "executionInfo": {
     "elapsed": 2605,
     "status": "ok",
     "timestamp": 1640637879984,
     "user": {
      "displayName": "Dongdong Liu",
      "photoUrl": "https://lh3.googleusercontent.com/a-/AOh14GjMbJAQt2qBlwnaBqCS7l8raW-pHlyBdev-hZ_GVw=s64",
      "userId": "16872593917970398899"
     },
     "user_tz": 300
    },
    "id": "dfcd916b",
    "outputId": "98f3620b-583d-4504-8a67-5adf79a8acd6"
   },
   "outputs": [
    {
     "name": "stdout",
     "output_type": "stream",
     "text": [
      "      Frame  Time (Seconds)         X         Y  ...  Z.130  X.131  Y.131  Z.131\n",
      "0         0        0.000000 -0.014573  0.997725  ...    NaN    NaN    NaN    NaN\n",
      "1         1        0.004167 -0.014548  0.997727  ...    NaN    NaN    NaN    NaN\n",
      "2         2        0.008333 -0.014540  0.997728  ...    NaN    NaN    NaN    NaN\n",
      "3         3        0.012500 -0.014524  0.997729  ...    NaN    NaN    NaN    NaN\n",
      "4         4        0.016667 -0.014501  0.997731  ...    NaN    NaN    NaN    NaN\n",
      "...     ...             ...       ...       ...  ...    ...    ...    ...    ...\n",
      "2274   2274        9.475000 -0.012431  0.999015  ...    NaN    NaN    NaN    NaN\n",
      "2275   2275        9.479167 -0.012461  0.999012  ...    NaN    NaN    NaN    NaN\n",
      "2276   2276        9.483333 -0.012470  0.999008  ...    NaN    NaN    NaN    NaN\n",
      "2277   2277        9.487500 -0.012489  0.999004  ...    NaN    NaN    NaN    NaN\n",
      "2278   2278        9.491667 -0.012497  0.999001  ...    NaN    NaN    NaN    NaN\n",
      "\n",
      "[2279 rows x 419 columns]\n"
     ]
    }
   ],
   "source": [
    "#load data from csv\n",
    "path = '/content/drive/My Drive/CSV Output/Take 2021-12-16 02.17.24 PM_006.csv'\n",
    "data = pd.read_csv(path, skiprows = 6)\n",
    "df = pd.DataFrame(data)\n",
    "print(data)"
   ]
  },
  {
   "cell_type": "code",
   "execution_count": 7,
   "id": "33cd4e8c",
   "metadata": {
    "colab": {
     "base_uri": "https://localhost:8080/"
    },
    "executionInfo": {
     "elapsed": 19108,
     "status": "ok",
     "timestamp": 1640637901977,
     "user": {
      "displayName": "Dongdong Liu",
      "photoUrl": "https://lh3.googleusercontent.com/a-/AOh14GjMbJAQt2qBlwnaBqCS7l8raW-pHlyBdev-hZ_GVw=s64",
      "userId": "16872593917970398899"
     },
     "user_tz": 300
    },
    "id": "33cd4e8c",
    "outputId": "39a66c05-796f-4569-9c3e-584e1e548246"
   },
   "outputs": [
    {
     "name": "stdout",
     "output_type": "stream",
     "text": [
      "data processing done\n"
     ]
    }
   ],
   "source": [
    "#Data processing\n",
    "time = []\n",
    "s_rot = [] #shoulder rotation\n",
    "s_pos = [] #shoulder position\n",
    "u_rot = [] #up arm rotation\n",
    "u_pos = [] #up arm position\n",
    "f_rot = [] #front arm rotation\n",
    "f_pos = [] #front arm position\n",
    "\n",
    "for i in range(0, len(data)) :\n",
    "    time.append(df.iloc[i][1])\n",
    "    s_rot.append([df.iloc[i][119], df.iloc[i][120], df.iloc[i][121], df.iloc[i][122]])\n",
    "    s_pos.append([df.iloc[i][123], df.iloc[i][124], df.iloc[i][125]])\n",
    "    u_rot.append([df.iloc[i][132], df.iloc[i][133], df.iloc[i][134], df.iloc[i][135]])\n",
    "    u_pos.append([df.iloc[i][136], df.iloc[i][137], df.iloc[i][138]])\n",
    "    f_rot.append([df.iloc[i][145], df.iloc[i][146], df.iloc[i][147], df.iloc[i][148]])\n",
    "    f_pos.append([df.iloc[i][149], df.iloc[i][150], df.iloc[i][151]])\n",
    "print(\"data processing done\")\n"
   ]
  },
  {
   "cell_type": "code",
   "execution_count": 8,
   "id": "15b82ddc",
   "metadata": {
    "colab": {
     "base_uri": "https://localhost:8080/"
    },
    "executionInfo": {
     "elapsed": 864,
     "status": "ok",
     "timestamp": 1640637906156,
     "user": {
      "displayName": "Dongdong Liu",
      "photoUrl": "https://lh3.googleusercontent.com/a-/AOh14GjMbJAQt2qBlwnaBqCS7l8raW-pHlyBdev-hZ_GVw=s64",
      "userId": "16872593917970398899"
     },
     "user_tz": 300
    },
    "id": "15b82ddc",
    "outputId": "789f17e8-600d-49bc-a5cd-208b0dfa437f"
   },
   "outputs": [
    {
     "name": "stdout",
     "output_type": "stream",
     "text": [
      "Get angle down\n"
     ]
    }
   ],
   "source": [
    "#Get angle\n",
    "shoulder = []\n",
    "elbow = []\n",
    "s_rot_x = []\n",
    "s_rot_y = []\n",
    "s_rot_z = []\n",
    "e_rot_x = []\n",
    "e_rot_y = []\n",
    "e_rot_z = []\n",
    "\n",
    "for i in range(0, len(u_rot)):\n",
    "    #up arm\n",
    "    ur1 = float(u_rot[i][0])\n",
    "    ur2 = float(u_rot[i][1])\n",
    "    ur3 = float(u_rot[i][2])\n",
    "    ur4 = float(u_rot[i][3])\n",
    "    up1 = float(u_pos[i][0])\n",
    "    up2 = float(u_pos[i][1])\n",
    "    up3 = float(u_pos[i][2])\n",
    "    R01 = makeR(ur1, ur2, ur3, ur4)\n",
    "    trans01 = makeTrans(up1, up2, up3)\n",
    "    T01 = makeT(R01, trans01)\n",
    "    \n",
    "    #Front arm\n",
    "    fr1 = float(f_rot[i][0])\n",
    "    fr2 = float(f_rot[i][1])\n",
    "    fr3 = float(f_rot[i][2])\n",
    "    fr4 = float(f_rot[i][3])\n",
    "    fp1 = float(f_pos[i][0])\n",
    "    fp2 = float(f_pos[i][1])\n",
    "    fp3 = float(f_pos[i][2])\n",
    "    R02 = makeR(fr1, fr2, fr3, fr4)\n",
    "    trans02 = makeTrans(fp1, fp2, fp3)\n",
    "    T02 = makeT(R02, trans02)\n",
    "\n",
    "    #shoulder\n",
    "    sr1 = float(s_rot[i][0])\n",
    "    sr2 = float(s_rot[i][1])\n",
    "    sr3 = float(s_rot[i][2])\n",
    "    sr4 = float(s_rot[i][3])\n",
    "    sp1 = float(s_pos[i][0])\n",
    "    sp2 = float(s_pos[i][1])\n",
    "    sp3 = float(s_pos[i][2])\n",
    "    R03 = makeR(sr1, sr2, sr3, sr4)\n",
    "    trans03 = makeTrans(sp1, sp2, sp3)\n",
    "    T03 = makeT(R03, trans03)\n",
    "    \n",
    "    #elbow angle\n",
    "    T12 = frameTranslation(T01, T02)\n",
    "    e_x, e_y, e_z= getAngle(T12)\n",
    "    elbow.append({e_x / 3.14 * 180, e_y / 3.14 * 180, e_z / 3.14 * 180})\n",
    "    e_rot_x.append(e_x / 3.14 * 180)\n",
    "    e_rot_y.append(e_y / 3.14 * 180)\n",
    "    e_rot_z.append(e_z / 3.14 * 180)\n",
    "\n",
    "    #shoulder angle\n",
    "    T31 = frameTranslation(T03, T01)\n",
    "    s_x, s_y, s_z = getAngle(T31)\n",
    "    shoulder.append({s_x / 3.14 * 180, s_y / 3.14 * 180, s_z / 3.14 * 180})\n",
    "    s_rot_x.append(s_x / 3.14 * 180)\n",
    "    s_rot_y.append(s_y / 3.14 * 180)\n",
    "    s_rot_z.append(s_z / 3.14 * 180)\n",
    "    \n",
    "print(\"Get angle down\")\n"
   ]
  },
  {
   "cell_type": "code",
   "execution_count": 9,
   "id": "5a2d08b0",
   "metadata": {
    "colab": {
     "base_uri": "https://localhost:8080/",
     "height": 325
    },
    "executionInfo": {
     "elapsed": 625,
     "status": "ok",
     "timestamp": 1640637910321,
     "user": {
      "displayName": "Dongdong Liu",
      "photoUrl": "https://lh3.googleusercontent.com/a-/AOh14GjMbJAQt2qBlwnaBqCS7l8raW-pHlyBdev-hZ_GVw=s64",
      "userId": "16872593917970398899"
     },
     "user_tz": 300
    },
    "id": "5a2d08b0",
    "outputId": "22744588-0ddd-45bf-c397-161fc4fc5e40"
   },
   "outputs": [
    {
     "data": {
      "text/plain": [
       "Text(0.5, 1.0, 'z')"
      ]
     },
     "execution_count": 9,
     "metadata": {},
     "output_type": "execute_result"
    },
    {
     "data": {
      "image/png": "[encoded data removed]",
      "text/plain": [
       "<Figure size 432x288 with 3 Axes>"
      ]
     },
     "metadata": {
      "needs_background": "light"
     },
     "output_type": "display_data"
    }
   ],
   "source": [
    "#Shoulder rotation\n",
    "fig, axs = plt.subplots(3)\n",
    "fig.suptitle('Shoulder Rotation')\n",
    "axs[0].plot(time, s_rot_x)\n",
    "axs[1].plot(time, s_rot_y)\n",
    "axs[2].plot(time, s_rot_z)\n",
    "axs[0].set_title('x')\n",
    "\n",
    "axs[1].set_ylabel('Degree')\n",
    "axs[1].set_title('y')\n",
    "\n",
    "axs[2].set_xlabel('Seconds')\n",
    "axs[2].set_title('z')\n"
   ]
  },
  {
   "cell_type": "code",
   "execution_count": 10,
   "id": "6061c8cc",
   "metadata": {
    "colab": {
     "base_uri": "https://localhost:8080/",
     "height": 325
    },
    "executionInfo": {
     "elapsed": 744,
     "status": "ok",
     "timestamp": 1640637918962,
     "user": {
      "displayName": "Dongdong Liu",
      "photoUrl": "https://lh3.googleusercontent.com/a-/AOh14GjMbJAQt2qBlwnaBqCS7l8raW-pHlyBdev-hZ_GVw=s64",
      "userId": "16872593917970398899"
     },
     "user_tz": 300
    },
    "id": "6061c8cc",
    "outputId": "ac4c1f55-69ee-4d26-a979-d1f7d1270c13"
   },
   "outputs": [
    {
     "data": {
      "text/plain": [
       "Text(0.5, 1.0, 'z')"
      ]
     },
     "execution_count": 10,
     "metadata": {},
     "output_type": "execute_result"
    },
    {
     "data": {
      "image/png": "[encoded data removed]",
      "text/plain": [
       "<Figure size 432x288 with 3 Axes>"
      ]
     },
     "metadata": {
      "needs_background": "light"
     },
     "output_type": "display_data"
    }
   ],
   "source": [
    "#Elbow rotation\n",
    "fig, axs = plt.subplots(3)\n",
    "fig.suptitle('Elbow Rotation')\n",
    "axs[0].plot(time, e_rot_x)\n",
    "axs[1].plot(time, e_rot_y)\n",
    "axs[2].plot(time, e_rot_z)\n",
    "axs[0].set_title('x')\n",
    "\n",
    "axs[1].set_ylabel('Degree')\n",
    "axs[1].set_title('y')\n",
    "\n",
    "axs[2].set_xlabel('Second')\n",
    "axs[2].set_title('z')"
   ]
  }
 ],
 "metadata": {
  "colab": {
   "name": "Mocap data analysis.ipynb",
   "provenance": []
  },
  "kernelspec": {
   "display_name": "Python 3 (ipykernel)",
   "language": "python",
   "name": "python3"
  },
  "language_info": {
   "codemirror_mode": {
    "name": "ipython",
    "version": 3
   },
   "file_extension": ".py",
   "mimetype": "text/x-python",
   "name": "python",
   "nbconvert_exporter": "python",
   "pygments_lexer": "ipython3",
   "version": "3.8.2"
  }
 },
 "nbformat": 4,
 "nbformat_minor": 5
}
